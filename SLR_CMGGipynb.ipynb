{
  "nbformat": 4,
  "nbformat_minor": 0,
  "metadata": {
    "colab": {
      "provenance": [],
      "authorship_tag": "ABX9TyOSCqxGmHLfp+vaRIUl4tNU",
      "include_colab_link": true
    },
    "kernelspec": {
      "name": "python3",
      "display_name": "Python 3"
    },
    "language_info": {
      "name": "python"
    }
  },
  "cells": [
    {
      "cell_type": "markdown",
      "metadata": {
        "id": "view-in-github",
        "colab_type": "text"
      },
      "source": [
        "<a href=\"https://colab.research.google.com/github/xkaloz28x/SLR-HANDS-ON-2/blob/main/SLR_CMGGipynb.ipynb\" target=\"_parent\"><img src=\"https://colab.research.google.com/assets/colab-badge.svg\" alt=\"Open In Colab\"/></a>"
      ]
    },
    {
      "cell_type": "code",
      "execution_count": 1,
      "metadata": {
        "id": "_k_ApIJ16yc3"
      },
      "outputs": [],
      "source": [
        "import pandas as pd\n",
        "import numpy as np\n",
        "import matplotlib.pyplot as plt\n",
        "from fractions import Fraction\n",
        "\n",
        "data = {\n",
        "    'Sales': [2, 4, 6, 8, 10, 12, 14, 16, 18],\n",
        "    'Advertising': [1, 2, 3, 4, 5, 6, 7, 8, 9]\n",
        "}\n",
        "df = pd.DataFrame(data)"
      ]
    },
    {
      "cell_type": "code",
      "source": [
        "print(\"DataFrame:\")\n",
        "print(df)\n"
      ],
      "metadata": {
        "colab": {
          "base_uri": "https://localhost:8080/"
        },
        "id": "Bw2usmb_6_vC",
        "outputId": "a214d480-d6bc-4583-b278-8d7dbb6f2b1d"
      },
      "execution_count": 2,
      "outputs": [
        {
          "output_type": "stream",
          "name": "stdout",
          "text": [
            "DataFrame:\n",
            "   Sales  Advertising\n",
            "0      2            1\n",
            "1      4            2\n",
            "2      6            3\n",
            "3      8            4\n",
            "4     10            5\n",
            "5     12            6\n",
            "6     14            7\n",
            "7     16            8\n",
            "8     18            9\n"
          ]
        }
      ]
    },
    {
      "cell_type": "code",
      "source": [
        "def calculate_slr(data):\n",
        "\n",
        "    sum_x = data['Advertising'].sum()\n",
        "    sum_y = data['Sales'].sum()\n",
        "    x2 = (data['Advertising'] ** 2).sum()\n",
        "    xy = (data['Sales'] * data['Advertising']).sum()\n",
        "    n = len(data)\n",
        "\n",
        "\n",
        "    b0 = ((sum_y * x2) - (sum_x * xy)) / ((n * x2) - (sum_x ** 2))\n",
        "    b1 = ((n * xy) - (sum_x * sum_y)) / ((n * x2) - (sum_x ** 2))\n",
        "\n",
        "    return b0, b1"
      ],
      "metadata": {
        "id": "QWNkuE2m7B71"
      },
      "execution_count": 3,
      "outputs": []
    },
    {
      "cell_type": "code",
      "source": [
        "b0, b1 = calculate_slr(df)\n",
        "print(f'b0: {b0}, b1: {b1}')"
      ],
      "metadata": {
        "colab": {
          "base_uri": "https://localhost:8080/"
        },
        "id": "kuvwzU8N7Kho",
        "outputId": "4feaba1e-4224-46ac-eaad-d8c362508405"
      },
      "execution_count": 4,
      "outputs": [
        {
          "output_type": "stream",
          "name": "stdout",
          "text": [
            "b0: 0.0, b1: 2.0\n"
          ]
        }
      ]
    },
    {
      "cell_type": "code",
      "source": [
        "b0_round = round(b0)\n",
        "b1_fraction = Fraction(b1).limit_denominator(10)\n",
        "print(f'Función aproximada: y = {b0_round} + ({b1_fraction})x')"
      ],
      "metadata": {
        "colab": {
          "base_uri": "https://localhost:8080/"
        },
        "id": "Q4JGOfGP7LlR",
        "outputId": "64d8148e-390a-4fd1-810b-e3e3e997fffa"
      },
      "execution_count": 23,
      "outputs": [
        {
          "output_type": "stream",
          "name": "stdout",
          "text": [
            "Función aproximada: y = 0 + (2)x\n"
          ]
        }
      ]
    },
    {
      "cell_type": "code",
      "source": [
        "y_points = np.array(data['Sales'])\n",
        "x_points = np.array(data['Advertising'])"
      ],
      "metadata": {
        "id": "G7Uddm-z7RZC"
      },
      "execution_count": 24,
      "outputs": []
    },
    {
      "cell_type": "code",
      "source": [
        "x_range = np.linspace(min(x_points) - 1, max(x_points) + 1, 100)\n"
      ],
      "metadata": {
        "id": "fhf6yMa87Tgy"
      },
      "execution_count": 25,
      "outputs": []
    },
    {
      "cell_type": "code",
      "source": [
        "y_range = b0 + b1 * x_range"
      ],
      "metadata": {
        "id": "jNfVQBgW7VRn"
      },
      "execution_count": 26,
      "outputs": []
    },
    {
      "cell_type": "code",
      "source": [
        "plt.plot(x_range, y_range, label=f'y = {b0_round} + ({b1_fraction})x', color='black')\n",
        "plt.scatter(x_points, y_points, color='red', label='Datos')\n",
        "plt.xlabel('Advertising')\n",
        "plt.ylabel('Sales')\n",
        "plt.title('SLR')\n",
        "plt.legend(loc='upper left')\n",
        "plt.grid(True)\n",
        "plt.show()"
      ],
      "metadata": {
        "colab": {
          "base_uri": "https://localhost:8080/",
          "height": 472
        },
        "id": "9cReapTG7W_Z",
        "outputId": "557c469b-ec9e-45de-8989-347d569fc3a9"
      },
      "execution_count": 32,
      "outputs": [
        {
          "output_type": "display_data",
          "data": {
            "text/plain": [
              "<Figure size 640x480 with 1 Axes>"
            ],
            "image/png": "[encoded data removed]"
          },
          "metadata": {}
        }
      ]
    }
  ]
}